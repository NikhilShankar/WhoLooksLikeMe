{
 "cells": [
  {
   "cell_type": "markdown",
   "metadata": {},
   "source": [
    "#### **Foundation of Machine Learning**\n",
    "##### **Final Project**"
   ]
  },
  {
   "cell_type": "markdown",
   "metadata": {},
   "source": [
    "#### **Step1**\n",
    "\n",
    "- We found a celebrity dataset in huggingface. \n",
    "- Install huggingface cli to use the dataset\n",
    "```\n",
    "pip install -U \"huggingface_hub[cli]\"\n",
    "huggingface-cli --help\n",
    "```\n",
    "\n"
   ]
  },
  {
   "cell_type": "markdown",
   "metadata": {},
   "source": [
    "Reference: The dataset for celebrity images were found from the following repo in huggingface. \n",
    "```\n",
    "https://huggingface.co/datasets/ares1123/celebrity_dataset\n",
    "```\n",
    "Thanks to user **https://huggingface.co/ares1123**\n"
   ]
  },
  {
   "cell_type": "markdown",
   "metadata": {},
   "source": [
    "#### **Step 2: Download the dataset**"
   ]
  },
  {
   "cell_type": "code",
   "execution_count": 6,
   "metadata": {},
   "outputs": [
    {
     "name": "stdout",
     "output_type": "stream",
     "text": [
      "DatasetDict({\n",
      "    train: Dataset({\n",
      "        features: ['image', 'label'],\n",
      "        num_rows: 18184\n",
      "    })\n",
      "})\n"
     ]
    }
   ],
   "source": [
    "from datasets import load_dataset\n",
    "\n",
    "dataset = load_dataset(\"ares1123/celebrity_dataset\")\n",
    "print(dataset)\n"
   ]
  },
  {
   "cell_type": "markdown",
   "metadata": {},
   "source": [
    "* View Dataset loaded as pandas dataframe"
   ]
  },
  {
   "cell_type": "code",
   "execution_count": 11,
   "metadata": {},
   "outputs": [
    {
     "data": {
      "text/html": [
       "<div>\n",
       "<style scoped>\n",
       "    .dataframe tbody tr th:only-of-type {\n",
       "        vertical-align: middle;\n",
       "    }\n",
       "\n",
       "    .dataframe tbody tr th {\n",
       "        vertical-align: top;\n",
       "    }\n",
       "\n",
       "    .dataframe thead th {\n",
       "        text-align: right;\n",
       "    }\n",
       "</style>\n",
       "<table border=\"1\" class=\"dataframe\">\n",
       "  <thead>\n",
       "    <tr style=\"text-align: right;\">\n",
       "      <th></th>\n",
       "      <th>image</th>\n",
       "      <th>label</th>\n",
       "    </tr>\n",
       "  </thead>\n",
       "  <tbody>\n",
       "    <tr>\n",
       "      <th>0</th>\n",
       "      <td>{'bytes': b'\\xff\\xd8\\xff\\xe0\\x00\\x10JFIF\\x00\\x...</td>\n",
       "      <td>0</td>\n",
       "    </tr>\n",
       "    <tr>\n",
       "      <th>1</th>\n",
       "      <td>{'bytes': b'\\xff\\xd8\\xff\\xe0\\x00\\x10JFIF\\x00\\x...</td>\n",
       "      <td>0</td>\n",
       "    </tr>\n",
       "    <tr>\n",
       "      <th>2</th>\n",
       "      <td>{'bytes': b'\\xff\\xd8\\xff\\xe0\\x00\\x10JFIF\\x00\\x...</td>\n",
       "      <td>0</td>\n",
       "    </tr>\n",
       "    <tr>\n",
       "      <th>3</th>\n",
       "      <td>{'bytes': b'\\xff\\xd8\\xff\\xe0\\x00\\x10JFIF\\x00\\x...</td>\n",
       "      <td>0</td>\n",
       "    </tr>\n",
       "    <tr>\n",
       "      <th>4</th>\n",
       "      <td>{'bytes': b'\\xff\\xd8\\xff\\xe0\\x00\\x10JFIF\\x00\\x...</td>\n",
       "      <td>0</td>\n",
       "    </tr>\n",
       "    <tr>\n",
       "      <th>...</th>\n",
       "      <td>...</td>\n",
       "      <td>...</td>\n",
       "    </tr>\n",
       "    <tr>\n",
       "      <th>18179</th>\n",
       "      <td>{'bytes': b'\\xff\\xd8\\xff\\xe0\\x00\\x10JFIF\\x00\\x...</td>\n",
       "      <td>996</td>\n",
       "    </tr>\n",
       "    <tr>\n",
       "      <th>18180</th>\n",
       "      <td>{'bytes': b'\\xff\\xd8\\xff\\xe0\\x00\\x10JFIF\\x00\\x...</td>\n",
       "      <td>996</td>\n",
       "    </tr>\n",
       "    <tr>\n",
       "      <th>18181</th>\n",
       "      <td>{'bytes': b'\\xff\\xd8\\xff\\xe0\\x00\\x10JFIF\\x00\\x...</td>\n",
       "      <td>996</td>\n",
       "    </tr>\n",
       "    <tr>\n",
       "      <th>18182</th>\n",
       "      <td>{'bytes': b'\\xff\\xd8\\xff\\xe0\\x00\\x10JFIF\\x00\\x...</td>\n",
       "      <td>996</td>\n",
       "    </tr>\n",
       "    <tr>\n",
       "      <th>18183</th>\n",
       "      <td>{'bytes': b'\\xff\\xd8\\xff\\xe0\\x00\\x10JFIF\\x00\\x...</td>\n",
       "      <td>996</td>\n",
       "    </tr>\n",
       "  </tbody>\n",
       "</table>\n",
       "<p>18184 rows × 2 columns</p>\n",
       "</div>"
      ],
      "text/plain": [
       "                                                   image  label\n",
       "0      {'bytes': b'\\xff\\xd8\\xff\\xe0\\x00\\x10JFIF\\x00\\x...      0\n",
       "1      {'bytes': b'\\xff\\xd8\\xff\\xe0\\x00\\x10JFIF\\x00\\x...      0\n",
       "2      {'bytes': b'\\xff\\xd8\\xff\\xe0\\x00\\x10JFIF\\x00\\x...      0\n",
       "3      {'bytes': b'\\xff\\xd8\\xff\\xe0\\x00\\x10JFIF\\x00\\x...      0\n",
       "4      {'bytes': b'\\xff\\xd8\\xff\\xe0\\x00\\x10JFIF\\x00\\x...      0\n",
       "...                                                  ...    ...\n",
       "18179  {'bytes': b'\\xff\\xd8\\xff\\xe0\\x00\\x10JFIF\\x00\\x...    996\n",
       "18180  {'bytes': b'\\xff\\xd8\\xff\\xe0\\x00\\x10JFIF\\x00\\x...    996\n",
       "18181  {'bytes': b'\\xff\\xd8\\xff\\xe0\\x00\\x10JFIF\\x00\\x...    996\n",
       "18182  {'bytes': b'\\xff\\xd8\\xff\\xe0\\x00\\x10JFIF\\x00\\x...    996\n",
       "18183  {'bytes': b'\\xff\\xd8\\xff\\xe0\\x00\\x10JFIF\\x00\\x...    996\n",
       "\n",
       "[18184 rows x 2 columns]"
      ]
     },
     "metadata": {},
     "output_type": "display_data"
    }
   ],
   "source": [
    "import pandas as pd\n",
    "df = pd.read_parquet(\"hf://datasets/ares1123/celebrity_dataset/data/train-00000-of-00001.parquet\")\n",
    "display(df)"
   ]
  },
  {
   "cell_type": "code",
   "execution_count": 12,
   "metadata": {},
   "outputs": [
    {
     "name": "stdout",
     "output_type": "stream",
     "text": [
      "{'image': <PIL.JpegImagePlugin.JpegImageFile image mode=RGB size=256x256 at 0x20A605A2BD0>, 'label': 0}\n"
     ]
    }
   ],
   "source": [
    "print(dataset['train'][0])"
   ]
  },
  {
   "cell_type": "markdown",
   "metadata": {},
   "source": [
    "* Save images as jpg from dataset"
   ]
  },
  {
   "cell_type": "code",
   "execution_count": 21,
   "metadata": {},
   "outputs": [],
   "source": [
    "import os\n",
    "import io\n",
    "import pandas as pd\n",
    "from PIL import Image\n",
    "\n",
    "def save_dataset_images(dataset, label_mapping_csv, output_base_dir='dataset_images'):\n",
    "    \"\"\"\n",
    "    Save images from a Hugging Face dataset to folders named using a CSV label mapping.\n",
    "    \n",
    "    Parameters:\n",
    "    - dataset: Hugging Face dataset\n",
    "    - label_mapping_csv: Path to CSV file with label mapping\n",
    "    - output_base_dir: Base directory to save images\n",
    "    \n",
    "    Returns:\n",
    "    - Path to the created output directory\n",
    "    \"\"\"\n",
    "    # Read the label mapping CSV\n",
    "    try:\n",
    "        label_mapping_df = pd.read_csv(label_mapping_csv)\n",
    "    except Exception as e:\n",
    "        raise ValueError(f\"Error reading label mapping CSV: {e}\")\n",
    "    \n",
    "    # Create a dictionary mapping integer labels to names\n",
    "    # Assumes the CSV has columns for integer label and corresponding name\n",
    "    # You might need to adjust column names based on your specific CSV structure\n",
    "    try:\n",
    "        label_map = dict(zip(label_mapping_df['Label'], label_mapping_df['Name']))\n",
    "    except KeyError:\n",
    "        raise ValueError(\"CSV must contain 'Label' and 'Name' columns\")\n",
    "    \n",
    "    # Ensure output directory exists\n",
    "    os.makedirs(output_base_dir, exist_ok=True)\n",
    "    \n",
    "    # Create a list to track saved images\n",
    "    saved_images = []\n",
    "    \n",
    "    # Iterate through the dataset\n",
    "    for idx, item in enumerate(dataset):\n",
    "        # Get image and integer label\n",
    "        img = item['image']\n",
    "        label = item['label']\n",
    "        \n",
    "        # Get the name from the label mapping\n",
    "        try:\n",
    "            label_name = label_map[label]\n",
    "        except KeyError:\n",
    "            print(f\"Warning: No mapping found for label {label}. Skipping.\")\n",
    "            continue\n",
    "        \n",
    "        # Create label-specific folder using the mapped name\n",
    "        label_dir = os.path.join(output_base_dir, label_name)\n",
    "        os.makedirs(label_dir, exist_ok=True)\n",
    "        \n",
    "        # Generate unique filename\n",
    "        filename = f'image_{idx}_{label_name}.jpg'\n",
    "        filepath = os.path.join(label_dir, filename)\n",
    "        \n",
    "        # Save image as RGB JPG\n",
    "        try:\n",
    "            img.convert('RGB').save(filepath, 'JPEG')\n",
    "        except Exception as e:\n",
    "            print(f\"Error saving image {filename}: {e}\")\n",
    "            continue\n",
    "        \n",
    "        # Track saved image details\n",
    "        saved_images.append({\n",
    "            'original_label': label,\n",
    "            'label_name': label_name,\n",
    "            'filename': filename,\n",
    "            'full_path': filepath\n",
    "        })\n",
    "    \n",
    "    # Optional: Create a log of saved images\n",
    "    log_path = os.path.join(output_base_dir, 'saved_images_log.csv')\n",
    "    pd.DataFrame(saved_images).to_csv(log_path, index=False)\n",
    "    \n",
    "    print(f\"Images saved to {output_base_dir}\")\n",
    "    print(f\"Saved images log: {log_path}\")\n",
    "    \n",
    "    return output_base_dir\n",
    "\n",
    "# Example usage\n",
    "# save_dataset_images(dataset, 'label_mapping.csv')"
   ]
  },
  {
   "cell_type": "code",
   "execution_count": 22,
   "metadata": {},
   "outputs": [
    {
     "name": "stdout",
     "output_type": "stream",
     "text": [
      "Images saved to dataset_images\n",
      "Saved images log: dataset_images\\saved_images_log.csv\n"
     ]
    },
    {
     "data": {
      "text/plain": [
       "'dataset_images'"
      ]
     },
     "execution_count": 22,
     "metadata": {},
     "output_type": "execute_result"
    }
   ],
   "source": [
    "save_dataset_images(dataset=dataset['train'], label_mapping_csv='label_names.csv')"
   ]
  },
  {
   "cell_type": "markdown",
   "metadata": {},
   "source": [
    "#### We have all the images downloaded into the dataset_images folder\n",
    "\n",
    "- Some findings\n",
    "    - There are some celebrities Like Zoe Zaldana and ZoE Zaldana who are the same person but have two folders assigned. \n",
    "    - The dataset doesnt have information of Gender. This is a challenge since when a user uploads an image and selects a gender and the app provides similarity to a different gender then it could negatively affect the sentiment of the user and consequently the app experience."
   ]
  }
 ],
 "metadata": {
  "kernelspec": {
   "display_name": "CSCN8010_classical_ml_311",
   "language": "python",
   "name": "python3"
  },
  "language_info": {
   "codemirror_mode": {
    "name": "ipython",
    "version": 3
   },
   "file_extension": ".py",
   "mimetype": "text/x-python",
   "name": "python",
   "nbconvert_exporter": "python",
   "pygments_lexer": "ipython3",
   "version": "3.11.0"
  }
 },
 "nbformat": 4,
 "nbformat_minor": 2
}
