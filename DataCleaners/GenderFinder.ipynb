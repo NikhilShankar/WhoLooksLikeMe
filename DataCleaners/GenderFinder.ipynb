{
 "cells": [
  {
   "cell_type": "markdown",
   "metadata": {},
   "source": [
    "#### We need to find the gender for all 1000 celebrities and segregate the dataset into male and female and in front end we need to ask what is the gender of the user. Genderize.io can be used for extracting the info and then we can segregate the dataset_images into two folders. Male and female. And Embeddings at a later point should also be segregated into Male and Female so that after taking input from Front end we can only search embeddings from the appropriate folders.\n",
    "\n"
   ]
  },
  {
   "cell_type": "markdown",
   "metadata": {},
   "source": [
    "#### Assigning Gender using Genderize.io"
   ]
  },
  {
   "cell_type": "code",
   "execution_count": null,
   "metadata": {
    "vscode": {
     "languageId": "plaintext"
    }
   },
   "outputs": [],
   "source": [
    "import requests\n",
    "import pandas as pd\n",
    "\n",
    "# Function to get gender from Genderize API\n",
    "def get_gender(name):\n",
    "    url = \"https://api.genderize.io\"\n",
    "    first_name = name.split()[0]\n",
    "    params = {'name': first_name}\n",
    "    try:\n",
    "        response = requests.get(url, params=params)\n",
    "        data = response.json()\n",
    "        gender = data.get('gender', 'Unknown') \n",
    "        print(f\"Request Completed : name:{name} firstName: {first_name} Gender:{gender}\")\n",
    "        return gender# Default to 'Unknown' if no gender found\n",
    "    except Exception as e:\n",
    "        return 'Error'  # Return 'Error' if request fails\n",
    "\n",
    "# Read the CSV file\n",
    "input_file = 'label_names.csv'  # Replace with your actual file path\n",
    "output_file = 'label_names_with_gender.csv'  # Output file path\n",
    "\n",
    "# Read the CSV into a DataFrame\n",
    "df = pd.read_csv(input_file)\n",
    "\n",
    "# Ensure the DataFrame has 'Label' and 'Name' columns\n",
    "if 'Label' in df.columns and 'Name' in df.columns:\n",
    "    # Add a new column for gender\n",
    "    df_subset = df.head(100)\n",
    "    df_subset['GenderFN'] = df_subset['Name'].apply(get_gender)\n",
    "    \n",
    "    # Write the new DataFrame to a CSV file\n",
    "    df_subset.to_csv(output_file, index=False)\n",
    "    print(f\"CSV file with Gender added has been saved as {output_file}\")\n",
    "else:\n",
    "    print(\"CSV file does not have required 'Label' and 'Name' columns.\")\n",
    "\n"
   ]
  },
  {
   "cell_type": "markdown",
   "metadata": {},
   "source": [
    "#### We exhausted the daily quota. So trying with gender-guesser offline library\n",
    "```\n",
    "pip install pyGenderize\n",
    "```"
   ]
  },
  {
   "cell_type": "code",
   "execution_count": null,
   "metadata": {
    "vscode": {
     "languageId": "plaintext"
    }
   },
   "outputs": [],
   "source": [
    "import pandas as pd\n",
    "import gender_guesser.detector as gender\n",
    "\n",
    "# Initialize the gender detector\n",
    "d = gender.Detector()\n",
    "\n",
    "# Read the CSV file\n",
    "input_file = 'label_names.csv'  # Replace with your actual file path\n",
    "output_file = 'output_with_gender.csv'  # Output file path\n",
    "\n",
    "# Read the CSV into a DataFrame\n",
    "df = pd.read_csv(input_file)\n",
    "\n",
    "# Ensure the DataFrame has 'Label' and 'Name' columns\n",
    "if 'Label' in df.columns and 'Name' in df.columns:\n",
    "    # Function to get gender from the gender-guesser detector\n",
    "    def get_gender(name):\n",
    "        first_name = name.split()[0]  # Use only the first name\n",
    "        return d.get_gender(first_name)  # Returns 'male', 'female', 'mostly_male', 'mostly_female', 'unknown'\n",
    "    \n",
    "    # Apply the function to the 'Name' column\n",
    "    df['GenderGuesser'] = df['Name'].apply(get_gender)\n",
    "    \n",
    "    # Save the updated DataFrame to a new CSV file\n",
    "    df.to_csv(output_file, index=False)\n",
    "    print(f\"CSV file with gender added for first 100 rows has been saved as {output_file}\")\n",
    "else:\n",
    "    print(\"CSV file does not have required 'Label' and 'Name' columns.\")\n"
   ]
  },
  {
   "cell_type": "markdown",
   "metadata": {},
   "source": [
    "#### Analysing results from gender-guesser"
   ]
  },
  {
   "cell_type": "code",
   "execution_count": null,
   "metadata": {
    "vscode": {
     "languageId": "plaintext"
    }
   },
   "outputs": [],
   "source": [
    "df = pd.read_csv('output_with_gender.csv')\n",
    "display(df)\n",
    "\n",
    "unique_counts = df['GenderGuesser'].value_counts()\n",
    "display(unique_counts)"
   ]
  },
  {
   "cell_type": "markdown",
   "metadata": {},
   "source": [
    "##### We need some manual work to assign gender for around 150 entries"
   ]
  },
  {
   "cell_type": "code",
   "execution_count": null,
   "metadata": {
    "vscode": {
     "languageId": "plaintext"
    }
   },
   "outputs": [],
   "source": [
    "mostly_male_df = df[df['GenderGuesser'] == 'mostly_male']\n",
    "\n",
    "# Display or save the result\n",
    "display(mostly_male_df)"
   ]
  }
 ],
 "metadata": {
  "language_info": {
   "name": "python"
  }
 },
 "nbformat": 4,
 "nbformat_minor": 2
}
