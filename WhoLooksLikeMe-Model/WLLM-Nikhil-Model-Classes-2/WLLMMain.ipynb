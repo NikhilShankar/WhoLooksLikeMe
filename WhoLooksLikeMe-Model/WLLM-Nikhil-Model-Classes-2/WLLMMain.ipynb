{
 "cells": [
  {
   "cell_type": "markdown",
   "metadata": {},
   "source": [
    "#### **EDA**"
   ]
  },
  {
   "cell_type": "code",
   "execution_count": null,
   "metadata": {},
   "outputs": [],
   "source": [
    "from EDA import EDA\n",
    "\n",
    "eda = EDA(\"../dataset\", \"EDA\")\n",
    "eda.calculate_eda()"
   ]
  },
  {
   "cell_type": "code",
   "execution_count": null,
   "metadata": {},
   "outputs": [],
   "source": [
    "from TrainTestSplitter import TrainTestSplitter\n",
    "from DataPreparation import DataPreparation\n",
    "from WLLMSimilarityCalculatorAdvancedCorrected import SimilarityCalculatorAdvancedCorrected2\n",
    "from WLLMModel import WLLMModel\n",
    "import os\n",
    "from datetime import datetime\n",
    "from WLLMModelLoader import WLLMModelLoader\n",
    "\n",
    "\n",
    "#Dont edit this\n",
    "modelname_prefix = \"WLLM-Model-Selected\"\n",
    "username = input(\"Enter your name\")\n",
    "formatted_date = datetime.now().strftime(\"%m-%d-%H-%M\")\n",
    "sample_class_range= (50,102)\n",
    "sample_class_range_name = \"L2\"\n",
    "\n",
    "model_name = f\"{modelname_prefix}-{username}-{sample_class_range_name}-{formatted_date}\"\n",
    "\n",
    "#TODO Point this to your repository of all images\n",
    "original_data_dir = \"../../../DontEditThese/Dataset3\"\n",
    "\n",
    "model_info_root_save_dir = \"../SavedTrainingData/savedmodels\"\n",
    "dataset_dir = f\"../TrainingDataImages/{model_name}\"  # Path to your dataset folder\n",
    "savedmodels_dir = f\"{model_info_root_save_dir}/{model_name}\"\n",
    "embeddings_dir = f\"{model_info_root_save_dir}/{model_name}/embeddings\"\n",
    "\n",
    "# Check if the folder exists; if not, create it\n",
    "if not os.path.exists(dataset_dir):\n",
    "    os.makedirs(dataset_dir)\n",
    "\n",
    "# Check if the folder exists; if not, create it\n",
    "if not os.path.exists(embeddings_dir):\n",
    "    os.makedirs(embeddings_dir)\n",
    "\n",
    "# Check if the folder exists; if not, create it\n",
    "if not os.path.exists(savedmodels_dir):\n",
    "    os.makedirs(savedmodels_dir)\n",
    "\n",
    "\n",
    "#Copy sample class number of images from original repo to dataset_dir\n",
    "data_preparation = DataPreparation(original_data_dir, dataset_dir, sample_range=sample_class_range)\n",
    "selected_classes = data_preparation.prepare_data()\n",
    "\n",
    "#Split data to train and test\n",
    "splitter = TrainTestSplitter(dataset_dir)\n",
    "splitter.create_train_test_split(test_file_count=4)\n",
    "\n",
    "\n",
    "## Training and creating embeddings for each personality\n",
    "model = WLLMModel(dataset_dir, savedmodels_dir)\n",
    "model.train_model(output_dir=savedmodels_dir, epochs=100, batch_size=32)\n",
    "model.create_embeddings_for_personality(data_dir=dataset_dir, save_embeddings_dir=embeddings_dir)\n",
    "\n",
    "\n",
    "\n",
    "#Testing\n",
    "modelLoader = WLLMModelLoader(f\"{model_info_root_save_dir}/{model_name}/best_model.keras\")\n",
    "similarity_calculator = SimilarityCalculatorAdvancedCorrected2(embeddings_dir)\n",
    "similarity_calculator.calculate_similarity(test_image_path=\"../../test_image/jon.jpg\", model=modelLoader.embedding_model)\n"
   ]
  },
  {
   "cell_type": "code",
   "execution_count": null,
   "metadata": {},
   "outputs": [],
   "source": [
    "similarity_calculator.calculate_similarity(test_image_path=\"../../test_image/ronaldo2.jpg\", model=modelLoader.embedding_model)\n"
   ]
  },
  {
   "cell_type": "code",
   "execution_count": null,
   "metadata": {},
   "outputs": [],
   "source": [
    "similarity_calculator.calculate_similarity(test_image_path=\"../../test_image/lail.jpg\", model=modelLoader.embedding_model)\n"
   ]
  },
  {
   "cell_type": "code",
   "execution_count": null,
   "metadata": {},
   "outputs": [],
   "source": [
    "similarity_calculator.calculate_similarity(test_image_path=\"../../test_image/beckham.jpg\", model=modelLoader.embedding_model)\n"
   ]
  }
 ],
 "metadata": {
  "kernelspec": {
   "display_name": "tensorflow_facenet",
   "language": "python",
   "name": "python3"
  },
  "language_info": {
   "codemirror_mode": {
    "name": "ipython",
    "version": 3
   },
   "file_extension": ".py",
   "mimetype": "text/x-python",
   "name": "python",
   "nbconvert_exporter": "python",
   "pygments_lexer": "ipython3",
   "version": "3.11.0"
  }
 },
 "nbformat": 4,
 "nbformat_minor": 2
}
