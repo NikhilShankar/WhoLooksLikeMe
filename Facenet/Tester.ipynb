{
 "cells": [
  {
   "cell_type": "markdown",
   "metadata": {},
   "source": [
    "####  Use this to test the implementation"
   ]
  },
  {
   "cell_type": "code",
   "execution_count": 1,
   "metadata": {},
   "outputs": [
    {
     "name": "stdout",
     "output_type": "stream",
     "text": [
      "InceptionV3 model loaded successfully!\n",
      "Image shape after preprocessing: (1, 299, 299, 3)\n",
      "Most similar personality:  Novak Djokovic with similarity score: 0.9088411927223206\n",
      "**************************************************\n",
      "Top 5 celebrities similar to you\n"
     ]
    },
    {
     "data": {
      "text/html": [
       "<div>\n",
       "<style scoped>\n",
       "    .dataframe tbody tr th:only-of-type {\n",
       "        vertical-align: middle;\n",
       "    }\n",
       "\n",
       "    .dataframe tbody tr th {\n",
       "        vertical-align: top;\n",
       "    }\n",
       "\n",
       "    .dataframe thead th {\n",
       "        text-align: right;\n",
       "    }\n",
       "</style>\n",
       "<table border=\"1\" class=\"dataframe\">\n",
       "  <thead>\n",
       "    <tr style=\"text-align: right;\">\n",
       "      <th></th>\n",
       "      <th>0</th>\n",
       "      <th>1</th>\n",
       "    </tr>\n",
       "  </thead>\n",
       "  <tbody>\n",
       "    <tr>\n",
       "      <th>0</th>\n",
       "      <td>Novak Djokovic</td>\n",
       "      <td>0.908841</td>\n",
       "    </tr>\n",
       "    <tr>\n",
       "      <th>1</th>\n",
       "      <td>Mark Zuckerberg</td>\n",
       "      <td>0.901105</td>\n",
       "    </tr>\n",
       "    <tr>\n",
       "      <th>2</th>\n",
       "      <td>Dwayne The Rock Johnson</td>\n",
       "      <td>0.892131</td>\n",
       "    </tr>\n",
       "    <tr>\n",
       "      <th>3</th>\n",
       "      <td>Vince Vaughn</td>\n",
       "      <td>0.845269</td>\n",
       "    </tr>\n",
       "    <tr>\n",
       "      <th>4</th>\n",
       "      <td>Michael Fassbender</td>\n",
       "      <td>0.841724</td>\n",
       "    </tr>\n",
       "  </tbody>\n",
       "</table>\n",
       "</div>"
      ],
      "text/plain": [
       "                          0         1\n",
       "0            Novak Djokovic  0.908841\n",
       "1           Mark Zuckerberg  0.901105\n",
       "2   Dwayne The Rock Johnson  0.892131\n",
       "3              Vince Vaughn  0.845269\n",
       "4        Michael Fassbender  0.841724"
      ]
     },
     "metadata": {},
     "output_type": "display_data"
    },
    {
     "name": "stdout",
     "output_type": "stream",
     "text": [
      "**************************************************\n",
      "**************************************************\n"
     ]
    }
   ],
   "source": [
    "from SimilarityCalculator import SimilarityCalculator\n",
    "from FaceNetModel import FaceNetModel\n",
    "import pandas as pd\n",
    "\n",
    "# Similarity calculation\n",
    "face_net_model = FaceNetModel()\n",
    "embeddings_dir = \"embeddings\"\n",
    "similarity_calculator = SimilarityCalculator(embeddings_dir)\n",
    "\n",
    "#Replace this ith your test image and it should show the result.\n",
    "test_image_path = \"../test_image/dwayne.jpg\"\n",
    "similar_personality = similarity_calculator.calculate_similarity(test_image_path, face_net_model)\n",
    "\n",
    "df = pd.DataFrame(similar_personality)\n",
    "print(f\"Most similar personality: {similar_personality[0][0]} with similarity score: {similar_personality[0][1]}\")\n",
    "\n",
    "print(\"*\"*50)\n",
    "print(\"Top 5 celebrities similar to you\")\n",
    "display(df.head(5))\n",
    "print(\"*\"*50)\n",
    "print(\"*\"*50)"
   ]
  }
 ],
 "metadata": {
  "kernelspec": {
   "display_name": "tensorflow_facenet",
   "language": "python",
   "name": "python3"
  },
  "language_info": {
   "codemirror_mode": {
    "name": "ipython",
    "version": 3
   },
   "file_extension": ".py",
   "mimetype": "text/x-python",
   "name": "python",
   "nbconvert_exporter": "python",
   "pygments_lexer": "ipython3",
   "version": "3.11.0"
  }
 },
 "nbformat": 4,
 "nbformat_minor": 2
}
