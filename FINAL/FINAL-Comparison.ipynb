{
 "cells": [
  {
   "cell_type": "markdown",
   "metadata": {},
   "source": []
  },
  {
   "cell_type": "code",
   "execution_count": 1,
   "metadata": {},
   "outputs": [
    {
     "name": "stdout",
     "output_type": "stream",
     "text": [
      "Moved one image to test and the rest to train for  Joanne Froggatt.\n",
      "Moved one image to test and the rest to train for  Nick Robinson.\n",
      "Moved one image to test and the rest to train for  Richard Jenkins.\n"
     ]
    }
   ],
   "source": [
    "from FINALFaceNetAdvancedEvaluatorCorrected import FaceNetAdvancedEvaluatorCorrected\n",
    "from FINALFaceNetModelAdvanced import FaceNetModelAdvanced\n",
    "from FINALTrainTestSplitter import TrainTestSplitter\n",
    "from FINALDataPreparation import DataPreparation\n",
    "import os\n",
    "\n",
    "original_data_dir = \"../dataset_images\"\n",
    "dataset_dir = \"../datasets/FINAL3\"  # Path to your dataset folder\n",
    "sample_class_number = 3\n",
    "\n",
    "data_preparation = DataPreparation(original_data_dir, dataset_dir, sample_class_number)\n",
    "selected_classes = data_preparation.prepare_data()\n",
    "\n",
    "# Example Usage:\n",
    "splitter = TrainTestSplitter(dataset_dir)\n",
    "splitter.create_train_test_split()"
   ]
  },
  {
   "cell_type": "markdown",
   "metadata": {},
   "source": [
    "#### **Training**"
   ]
  },
  {
   "cell_type": "code",
   "execution_count": 1,
   "metadata": {},
   "outputs": [
    {
     "name": "stdout",
     "output_type": "stream",
     "text": [
      "InceptionResNetV1 model loaded successfully!\n",
      "Augmentation : {should_augment} with augmentated image count : {augmentation_count}\n",
      "Details of embedding : Shape: (1, 1001)\n",
      "Details of embedding : Shape: (1, 1001)\n",
      "Details of embedding : Shape: (1, 1001)\n",
      "Details of embedding : Shape: (1, 1001)\n",
      "Details of embedding : Shape: (1, 1001)\n",
      "Details of embedding : Shape: (1, 1001)\n",
      "Details of embedding : Shape: (1, 1001)\n",
      "Details of embedding : Shape: (1, 1001)\n",
      "Details of embedding : Shape: (1, 1001)\n"
     ]
    },
    {
     "data": {
      "text/plain": [
       "{' Joanne Froggatt': array([[[-0.61280704,  0.07032858, -1.3199182 , ..., -1.9139919 ,\n",
       "           0.59783745,  0.45617428]],\n",
       " \n",
       "        [[-0.43032038, -0.17714502, -1.1818744 , ..., -2.0810182 ,\n",
       "           0.4209924 ,  0.42357117]],\n",
       " \n",
       "        [[-0.26431006,  0.12818633, -0.03517172, ..., -0.8822607 ,\n",
       "           0.82408035, -0.12617977]]], dtype=float32),\n",
       " ' Nick Robinson': array([[[-0.50587547,  1.066532  , -0.8510928 , ..., -0.32263207,\n",
       "           0.1920622 ,  0.48966414]],\n",
       " \n",
       "        [[-0.3601897 ,  4.402366  ,  0.2366148 , ...,  0.53834695,\n",
       "           0.8624637 ,  0.46794826]],\n",
       " \n",
       "        [[-0.39397833,  4.6483116 ,  0.5582721 , ...,  0.02099794,\n",
       "           0.88782036,  0.47771823]]], dtype=float32),\n",
       " ' Richard Jenkins': array([[[-0.16949323,  1.1200367 ,  0.08076766, ..., -0.2247898 ,\n",
       "          -0.6086192 ,  1.0891906 ]],\n",
       " \n",
       "        [[-0.13600862,  1.5234556 ,  0.03943631, ..., -0.42649007,\n",
       "          -0.0095969 ,  0.4413389 ]],\n",
       " \n",
       "        [[-0.48426956,  1.3180699 , -0.0387226 , ..., -0.5461434 ,\n",
       "           1.1984434 , -0.31563276]]], dtype=float32)}"
      ]
     },
     "execution_count": 1,
     "metadata": {},
     "output_type": "execute_result"
    }
   ],
   "source": [
    "# Assuming you already have the FaceNetModel instance and the model is loaded\n",
    "from FINALFaceNetAdvancedEvaluatorCorrected import FaceNetAdvancedEvaluatorCorrected\n",
    "from FINALFaceNetModelAdvanced import FaceNetModelAdvanced\n",
    "dataset_dir = \"../datasets/FINAL3\"  # Path to your dataset folder\n",
    "\n",
    "model = FaceNetModelAdvanced(\"../inception-v3\")\n",
    "# Create embeddings for the training data\n",
    "model.create_embeddings_for_personality(dataset_dir, False)"
   ]
  },
  {
   "cell_type": "markdown",
   "metadata": {},
   "source": [
    "#### **Evaluation**"
   ]
  },
  {
   "cell_type": "code",
   "execution_count": null,
   "metadata": {},
   "outputs": [],
   "source": [
    "# Step 3: Evaluate the model using the embeddings and test folder\n",
    "from FaceNetAdvancedEvaluator import FaceNetAdvancedEvaluator\n",
    "from FaceNetModelAdvanced import FaceNetModelAdvanced\n",
    "\n",
    "model = FaceNetModelAdvanced(\"../inception-v3\")\n",
    "evaluator = FaceNetAdvancedEvaluator(dataset_dir=dataset_dir, model=model)\n",
    "evaluator.evaluate()"
   ]
  },
  {
   "cell_type": "markdown",
   "metadata": {},
   "source": [
    "#### **Testing**"
   ]
  },
  {
   "cell_type": "code",
   "execution_count": null,
   "metadata": {},
   "outputs": [],
   "source": [
    "from SimilarityCalculatorAdvancedCorrected2 import SimilarityCalculatorAdvancedCorrected2\n",
    "from FaceNetModelAdvanced import FaceNetModelAdvanced\n",
    "import pandas as pd\n",
    "\n",
    "# Similarity calculation\n",
    "face_net_model = FaceNetModelAdvanced()\n",
    "dataset_dir = \"../datasets/celeb10Advanced\"  # Path to your dataset folder\n",
    "embeddings_dir = f\"{dataset_dir}/embeddings\"\n",
    "similarity_calculator = SimilarityCalculatorAdvancedCorrected2(embeddings_dir)\n",
    "test_image_path = \"../test_image/Emma.jpg\"\n",
    "similar_personality_by_average, similar_personality_by_total = similarity_calculator.calculate_similarity(test_image_path, face_net_model)\n",
    "\n",
    "df = pd.DataFrame(similar_personality_by_average)\n",
    "print(f\"Most similar personality Avergae based: {similar_personality_by_average[0][0]} with similarity score: {similar_personality_by_average[0][1]}\")\n",
    "print(f\"Most similar personality Total based: {similar_personality_by_total[0][0]} with similarity score: {similar_personality_by_total[0][1]}\")\n",
    "\n",
    "display(df)"
   ]
  }
 ],
 "metadata": {
  "kernelspec": {
   "display_name": "tensorflow_facenet",
   "language": "python",
   "name": "python3"
  },
  "language_info": {
   "codemirror_mode": {
    "name": "ipython",
    "version": 3
   },
   "file_extension": ".py",
   "mimetype": "text/x-python",
   "name": "python",
   "nbconvert_exporter": "python",
   "pygments_lexer": "ipython3",
   "version": "3.11.0"
  }
 },
 "nbformat": 4,
 "nbformat_minor": 2
}
