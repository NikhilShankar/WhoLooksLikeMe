{
 "cells": [
  {
   "cell_type": "code",
   "execution_count": 5,
   "metadata": {},
   "outputs": [
    {
     "name": "stdout",
     "output_type": "stream",
     "text": [
      "\n",
      "Item no.: 1 --> Item name = Tom Hanks\n",
      "Evaluating...\n",
      "Starting Download...\n",
      "\n",
      "\n",
      "Unfortunately all 100 could not be downloaded because some images were not downloadable. 0 is all we got for this search filter!\n",
      "\n",
      "Errors: 0\n",
      "\n",
      "({'Tom Hanks': []}, 0)\n"
     ]
    }
   ],
   "source": [
    "from google_images_download import google_images_download   #importing the library\n",
    "\n",
    "response = google_images_download.googleimagesdownload()   #class instantiation\n",
    "\n",
    "arguments = {\"keywords\":\"Tom Hanks\",\"limit\":100}   #creating list of arguments\n",
    "paths = response.download(arguments)   #passing the arguments to the function\n",
    "print(paths)   #printing absolute paths of the downloaded images"
   ]
  }
 ],
 "metadata": {
  "kernelspec": {
   "display_name": "tensorflow_facenet",
   "language": "python",
   "name": "python3"
  },
  "language_info": {
   "codemirror_mode": {
    "name": "ipython",
    "version": 3
   },
   "file_extension": ".py",
   "mimetype": "text/x-python",
   "name": "python",
   "nbconvert_exporter": "python",
   "pygments_lexer": "ipython3",
   "version": "3.11.0"
  }
 },
 "nbformat": 4,
 "nbformat_minor": 2
}
